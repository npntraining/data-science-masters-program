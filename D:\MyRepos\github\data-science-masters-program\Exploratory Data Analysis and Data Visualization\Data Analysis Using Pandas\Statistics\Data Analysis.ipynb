{
  "nbformat": 4,
  "nbformat_minor": 0,
  "metadata": {
    "colab": {
      "name": "Data Analysis.ipynb",
      "provenance": [],
      "include_colab_link": true
    },
    "kernelspec": {
      "name": "python3",
      "display_name": "Python 3"
    }
  },
  "cells": [
    {
      "cell_type": "markdown",
      "metadata": {
        "id": "view-in-github",
        "colab_type": "text"
      },
      "source": [
        "<a href=\"https://colab.research.google.com/github/npntraining/data-science-masters-program/blob/master/D%3A%5CMyRepos%5Cgithub%5Cdata-science-masters-program%5CExploratory%20Data%20Analysis%20and%20Data%20Visualization%5CData%20Analysis%20Using%20Pandas%5CStatistics%5CData%20Analysis.ipynb\" target=\"_parent\"><img src=\"https://colab.research.google.com/assets/colab-badge.svg\" alt=\"Open In Colab\"/></a>"
      ]
    },
    {
      "cell_type": "markdown",
      "metadata": {
        "id": "95yIDzbvS2y5",
        "colab_type": "text"
      },
      "source": [
        "# Descriptive Statistics"
      ]
    },
    {
      "cell_type": "markdown",
      "metadata": {
        "id": "ht--KRT0RFOT",
        "colab_type": "text"
      },
      "source": [
        "MEAN\n",
        "\n",
        "1.   Mean is described as the arithmetic average of all the data points\n",
        "2.   It can be calculated for both discrete and continous variables.\n",
        "\n",
        "Formula:\n",
        "        Mean = Sum of all points / Total number of points\n",
        "\n",
        "\n",
        "\n"
      ]
    },
    {
      "cell_type": "code",
      "metadata": {
        "id": "Rcuh7evJRPJ9",
        "colab_type": "code",
        "colab": {
          "base_uri": "https://localhost:8080/",
          "height": 34
        },
        "outputId": "bfea1289-2558-45f1-c4a2-54106d0965ef"
      },
      "source": [
        "import numpy as np\n",
        "my_list = [1,2,4,5,8,8,6,7,5,7,8,9]\n",
        "\n",
        "def get_mean(list):\n",
        "  return sum(list)/len(list)*1.0\n",
        "\n",
        "get_mean(my_list)"
      ],
      "execution_count": 1,
      "outputs": [
        {
          "output_type": "execute_result",
          "data": {
            "text/plain": [
              "5.833333333333333"
            ]
          },
          "metadata": {
            "tags": []
          },
          "execution_count": 1
        }
      ]
    },
    {
      "cell_type": "markdown",
      "metadata": {
        "id": "oehY0gu-TXk5",
        "colab_type": "text"
      },
      "source": [
        "How Mean is affected with extreme data points"
      ]
    },
    {
      "cell_type": "code",
      "metadata": {
        "id": "MPD1O8a2SEkw",
        "colab_type": "code",
        "colab": {
          "base_uri": "https://localhost:8080/",
          "height": 34
        },
        "outputId": "674ddaf2-2bd3-42af-dc58-b31a1b01bca3"
      },
      "source": [
        "my_list = [1,2,4,5,8,8,6,7,5,7,8,9,100]\n",
        "get_mean(my_list)"
      ],
      "execution_count": 4,
      "outputs": [
        {
          "output_type": "execute_result",
          "data": {
            "text/plain": [
              "19.285714285714285"
            ]
          },
          "metadata": {
            "tags": []
          },
          "execution_count": 4
        }
      ]
    },
    {
      "cell_type": "markdown",
      "metadata": {
        "id": "KmiAVTkNSe4k",
        "colab_type": "text"
      },
      "source": [
        "**Median**\n",
        "\n",
        "1.   It is described as the middle value in a sequence of data points ordered by rank\n",
        "2.   Unlike Mean, it is not affected by extreme points.\n",
        "\n"
      ]
    },
    {
      "cell_type": "code",
      "metadata": {
        "id": "X8U6ucf0SzYD",
        "colab_type": "code",
        "colab": {
          "base_uri": "https://localhost:8080/",
          "height": 34
        },
        "outputId": "abb132af-d1f7-4eaf-a4db-cfe3dcb98877"
      },
      "source": [
        "my_list = [1,2,4,5,8,8,6,7,5,7,8,9]\n",
        "np.median(my_list)\n"
      ],
      "execution_count": 7,
      "outputs": [
        {
          "output_type": "execute_result",
          "data": {
            "text/plain": [
              "6.5"
            ]
          },
          "metadata": {
            "tags": []
          },
          "execution_count": 7
        }
      ]
    },
    {
      "cell_type": "code",
      "metadata": {
        "id": "253jNYZVTuOO",
        "colab_type": "code",
        "colab": {
          "base_uri": "https://localhost:8080/",
          "height": 34
        },
        "outputId": "4fad1a0a-0b45-4a2e-fe66-de983dbe2201"
      },
      "source": [
        "my_list.append(100)\n",
        "np.median(my_list)"
      ],
      "execution_count": 8,
      "outputs": [
        {
          "output_type": "execute_result",
          "data": {
            "text/plain": [
              "7.0"
            ]
          },
          "metadata": {
            "tags": []
          },
          "execution_count": 8
        }
      ]
    },
    {
      "cell_type": "markdown",
      "metadata": {
        "id": "_lQRBdnrT9F5",
        "colab_type": "text"
      },
      "source": [
        "**Mode**\n",
        "\n",
        "\n",
        "1.   It is described as the data point(s) with the highest frequency.\n",
        "\n",
        "\n"
      ]
    },
    {
      "cell_type": "code",
      "metadata": {
        "id": "9Iay9rPeT2LG",
        "colab_type": "code",
        "colab": {
          "base_uri": "https://localhost:8080/",
          "height": 34
        },
        "outputId": "59f9497c-dd43-4b22-e7e3-437f8c7d2b98"
      },
      "source": [
        "from scipy.stats import mode\n",
        "mode(my_list)"
      ],
      "execution_count": 11,
      "outputs": [
        {
          "output_type": "execute_result",
          "data": {
            "text/plain": [
              "ModeResult(mode=array([8]), count=array([3]))"
            ]
          },
          "metadata": {
            "tags": []
          },
          "execution_count": 11
        }
      ]
    },
    {
      "cell_type": "code",
      "metadata": {
        "id": "D-oeLAQaUfkX",
        "colab_type": "code",
        "colab": {
          "base_uri": "https://localhost:8080/",
          "height": 34
        },
        "outputId": "7a3a6de8-f7d1-46ad-ddfb-af9e613fd45c"
      },
      "source": [
        "my_list_str=['a','b','c','d','e','e','f','f']\n",
        "mode(my_list_str)"
      ],
      "execution_count": 13,
      "outputs": [
        {
          "output_type": "execute_result",
          "data": {
            "text/plain": [
              "ModeResult(mode=array(['e'], dtype='<U1'), count=array([2]))"
            ]
          },
          "metadata": {
            "tags": []
          },
          "execution_count": 13
        }
      ]
    },
    {
      "cell_type": "code",
      "metadata": {
        "id": "qOJ-XdNRVAGi",
        "colab_type": "code",
        "colab": {}
      },
      "source": [
        ""
      ],
      "execution_count": 0,
      "outputs": []
    },
    {
      "cell_type": "markdown",
      "metadata": {
        "id": "_T3OqwQOVMv9",
        "colab_type": "text"
      },
      "source": [
        "# Variance and Standard Deviation"
      ]
    },
    {
      "cell_type": "code",
      "metadata": {
        "id": "zpfQndfKVPlQ",
        "colab_type": "code",
        "colab": {}
      },
      "source": [
        ""
      ],
      "execution_count": 0,
      "outputs": []
    },
    {
      "cell_type": "markdown",
      "metadata": {
        "id": "X7hQSfH6VafN",
        "colab_type": "text"
      },
      "source": [
        "# Visualizing Statistical Measures"
      ]
    },
    {
      "cell_type": "code",
      "metadata": {
        "id": "WAi46xj6VeOG",
        "colab_type": "code",
        "colab": {}
      },
      "source": [
        ""
      ],
      "execution_count": 0,
      "outputs": []
    },
    {
      "cell_type": "markdown",
      "metadata": {
        "id": "UlZ-oLcYVfy0",
        "colab_type": "text"
      },
      "source": [
        "# Calculaint Percentiles"
      ]
    },
    {
      "cell_type": "code",
      "metadata": {
        "id": "gbLV7rAgVhtA",
        "colab_type": "code",
        "colab": {}
      },
      "source": [
        ""
      ],
      "execution_count": 0,
      "outputs": []
    },
    {
      "cell_type": "markdown",
      "metadata": {
        "id": "tdkmazr2VkHV",
        "colab_type": "text"
      },
      "source": [
        "# Quartiles and Box Plots"
      ]
    },
    {
      "cell_type": "code",
      "metadata": {
        "id": "BlaYwu9IVooo",
        "colab_type": "code",
        "colab": {}
      },
      "source": [
        ""
      ],
      "execution_count": 0,
      "outputs": []
    }
  ]
}